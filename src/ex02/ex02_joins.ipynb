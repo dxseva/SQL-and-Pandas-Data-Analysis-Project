{
 "cells": [
  {
   "cell_type": "markdown",
   "id": "9742ea8522f4ea24",
   "metadata": {},
   "source": [
    "## Упражнение 02: Присоединиться"
   ]
  },
  {
   "cell_type": "code",
   "id": "f842bb97b022b26d",
   "metadata": {
    "ExecuteTime": {
     "end_time": "2025-08-07T18:11:58.203473Z",
     "start_time": "2025-08-07T18:11:58.198959Z"
    }
   },
   "source": [
    "import pandas as pd\n",
    "import sqlite3"
   ],
   "outputs": [],
   "execution_count": 5
  },
  {
   "cell_type": "markdown",
   "id": "d6ddec21578584e4",
   "metadata": {},
   "source": [
    "## создаем подключение к базе данных с помощью библиотеки sqlite3"
   ]
  },
  {
   "cell_type": "code",
   "id": "96cb6961d56dfdb8",
   "metadata": {
    "ExecuteTime": {
     "end_time": "2025-08-07T18:11:58.253041Z",
     "start_time": "2025-08-07T18:11:58.247350Z"
    }
   },
   "source": [
    "conn = sqlite3.connect('../data/checking-logs.sqlite')"
   ],
   "outputs": [],
   "execution_count": 6
  },
  {
   "cell_type": "markdown",
   "id": "5aa00106334818ce",
   "metadata": {},
   "source": [
    "## создать новую таблицу datamart в базе данных, объединив таблицы pageviews и checker, используя только один запрос:\n",
    "- таблица должна иметь следующие столбцы: uid, labname, first_commit_ts, first_view_ts\n",
    "- first_commit_ts — это просто новое имя столбца timestamp из таблицы проверки, оно показывает первый коммит из конкретной лаборатории и от конкретного пользователя.\n",
    "- first_view_ts — первый визит пользователя в - таблицу pageviews, временная метка, когда пользователь посетил ленту новостей\n",
    "- статус = «готов» все еще должен быть фильтром\n",
    "- numTrials = 1 все равно должен быть фильтром\n",
    "имена лабораторий должны быть из списка: 'laba04', 'laba04s', 'laba05', 'laba06', 'laba06s', 'project1'\n",
    "- таблица должна содержать только пользователей (uid с user_*), а не администраторов\n",
    "- first_commit_ts и first_view_ts следует анализировать как datetime64[ns]"
   ]
  },
  {
   "cell_type": "code",
   "id": "1e500a43c695178b",
   "metadata": {
    "ExecuteTime": {
     "end_time": "2025-08-07T18:11:58.338772Z",
     "start_time": "2025-08-07T18:11:58.310159Z"
    }
   },
   "source": [
    "query = \"\"\"\n",
    "        create table if not exists datamart as\n",
    "        select checker.uid, checker.labname, checker.timestamp as first_commit_ts,\n",
    "        pageviews.datetime as first_view_ts from checker\n",
    "        left join pageviews on pageviews.uid = checker.uid\n",
    "        where checker.uid like 'user_%' and\n",
    "        status = 'ready' and numTrials = 1 and\n",
    "        labname in ('laba04', 'laba04s', 'laba05', 'laba06', 'laba06s', 'project1')\n",
    "        and (pageviews.datetime = (select min(datetime) from pageviews where checker.uid = pageviews.uid) or pageviews.datetime is null)\n",
    "        \"\"\"\n",
    "\n",
    "conn.execute(query)\n",
    "\n",
    "datamart = pd.read_sql('select * from datamart', conn, parse_dates=['first_commit_ts', 'first_view_ts'])\n",
    "datamart"
   ],
   "outputs": [
    {
     "data": {
      "text/plain": [
       "         uid   labname            first_commit_ts              first_view_ts\n",
       "0     user_4  project1 2020-04-17 05:19:02.744528                        NaT\n",
       "1     user_4    laba04 2020-04-17 11:33:17.366400                        NaT\n",
       "2     user_4   laba04s 2020-04-17 11:48:41.992466                        NaT\n",
       "3    user_17  project1 2020-04-18 07:56:45.408648 2020-04-18 10:56:55.833899\n",
       "4    user_30    laba04 2020-04-18 13:36:53.971502 2020-04-17 22:46:26.785035\n",
       "..       ...       ...                        ...                        ...\n",
       "135  user_23    laba06 2020-05-21 08:34:10.517205                        NaT\n",
       "136  user_19   laba06s 2020-05-21 13:27:06.705881 2020-04-21 20:30:38.034966\n",
       "137  user_23   laba06s 2020-05-21 14:29:15.709568                        NaT\n",
       "138  user_17    laba06 2020-05-21 15:21:31.567615 2020-04-18 10:56:55.833899\n",
       "139  user_17   laba06s 2020-05-21 17:39:17.783615 2020-04-18 10:56:55.833899\n",
       "\n",
       "[140 rows x 4 columns]"
      ],
      "text/html": [
       "<div>\n",
       "<style scoped>\n",
       "    .dataframe tbody tr th:only-of-type {\n",
       "        vertical-align: middle;\n",
       "    }\n",
       "\n",
       "    .dataframe tbody tr th {\n",
       "        vertical-align: top;\n",
       "    }\n",
       "\n",
       "    .dataframe thead th {\n",
       "        text-align: right;\n",
       "    }\n",
       "</style>\n",
       "<table border=\"1\" class=\"dataframe\">\n",
       "  <thead>\n",
       "    <tr style=\"text-align: right;\">\n",
       "      <th></th>\n",
       "      <th>uid</th>\n",
       "      <th>labname</th>\n",
       "      <th>first_commit_ts</th>\n",
       "      <th>first_view_ts</th>\n",
       "    </tr>\n",
       "  </thead>\n",
       "  <tbody>\n",
       "    <tr>\n",
       "      <th>0</th>\n",
       "      <td>user_4</td>\n",
       "      <td>project1</td>\n",
       "      <td>2020-04-17 05:19:02.744528</td>\n",
       "      <td>NaT</td>\n",
       "    </tr>\n",
       "    <tr>\n",
       "      <th>1</th>\n",
       "      <td>user_4</td>\n",
       "      <td>laba04</td>\n",
       "      <td>2020-04-17 11:33:17.366400</td>\n",
       "      <td>NaT</td>\n",
       "    </tr>\n",
       "    <tr>\n",
       "      <th>2</th>\n",
       "      <td>user_4</td>\n",
       "      <td>laba04s</td>\n",
       "      <td>2020-04-17 11:48:41.992466</td>\n",
       "      <td>NaT</td>\n",
       "    </tr>\n",
       "    <tr>\n",
       "      <th>3</th>\n",
       "      <td>user_17</td>\n",
       "      <td>project1</td>\n",
       "      <td>2020-04-18 07:56:45.408648</td>\n",
       "      <td>2020-04-18 10:56:55.833899</td>\n",
       "    </tr>\n",
       "    <tr>\n",
       "      <th>4</th>\n",
       "      <td>user_30</td>\n",
       "      <td>laba04</td>\n",
       "      <td>2020-04-18 13:36:53.971502</td>\n",
       "      <td>2020-04-17 22:46:26.785035</td>\n",
       "    </tr>\n",
       "    <tr>\n",
       "      <th>...</th>\n",
       "      <td>...</td>\n",
       "      <td>...</td>\n",
       "      <td>...</td>\n",
       "      <td>...</td>\n",
       "    </tr>\n",
       "    <tr>\n",
       "      <th>135</th>\n",
       "      <td>user_23</td>\n",
       "      <td>laba06</td>\n",
       "      <td>2020-05-21 08:34:10.517205</td>\n",
       "      <td>NaT</td>\n",
       "    </tr>\n",
       "    <tr>\n",
       "      <th>136</th>\n",
       "      <td>user_19</td>\n",
       "      <td>laba06s</td>\n",
       "      <td>2020-05-21 13:27:06.705881</td>\n",
       "      <td>2020-04-21 20:30:38.034966</td>\n",
       "    </tr>\n",
       "    <tr>\n",
       "      <th>137</th>\n",
       "      <td>user_23</td>\n",
       "      <td>laba06s</td>\n",
       "      <td>2020-05-21 14:29:15.709568</td>\n",
       "      <td>NaT</td>\n",
       "    </tr>\n",
       "    <tr>\n",
       "      <th>138</th>\n",
       "      <td>user_17</td>\n",
       "      <td>laba06</td>\n",
       "      <td>2020-05-21 15:21:31.567615</td>\n",
       "      <td>2020-04-18 10:56:55.833899</td>\n",
       "    </tr>\n",
       "    <tr>\n",
       "      <th>139</th>\n",
       "      <td>user_17</td>\n",
       "      <td>laba06s</td>\n",
       "      <td>2020-05-21 17:39:17.783615</td>\n",
       "      <td>2020-04-18 10:56:55.833899</td>\n",
       "    </tr>\n",
       "  </tbody>\n",
       "</table>\n",
       "<p>140 rows × 4 columns</p>\n",
       "</div>"
      ]
     },
     "execution_count": 7,
     "metadata": {},
     "output_type": "execute_result"
    }
   ],
   "execution_count": 7
  },
  {
   "cell_type": "markdown",
   "id": "d95ead82d3e7ff1d",
   "metadata": {},
   "source": [
    "## Используя методы Pandas, создайте два фрейма данных: тестовый и контрольный.\n",
    "\n",
    "- тест должен иметь пользователей, которые имеют значения в first_view_ts\n",
    "- элемент управления должен иметь пользователей, у которых отсутствуют значения в first_view_ts\n",
    "- замените отсутствующие значения в элементе управления средним значением first_view_ts тестовых пользователей, мы будем использовать это значение для будущего анализа\n",
    "- сохраните обе таблицы в базе данных, они вам понадобятся в следующих упражнениях."
   ]
  },
  {
   "cell_type": "code",
   "id": "5c8a24ed28c5b856",
   "metadata": {
    "ExecuteTime": {
     "end_time": "2025-08-07T18:11:58.716820Z",
     "start_time": "2025-08-07T18:11:58.454362Z"
    }
   },
   "source": [
    "test = datamart[datamart['first_view_ts'].notnull()]\n",
    "control = datamart[datamart['first_view_ts'].isnull()]\n",
    "control = control.fillna(test['first_view_ts'].mean())\n",
    "\n",
    "test.info()\n",
    "control.info()\n",
    "\n",
    "test.to_sql('test', conn)\n",
    "control.to_sql('control', conn)"
   ],
   "outputs": [
    {
     "name": "stdout",
     "output_type": "stream",
     "text": [
      "<class 'pandas.core.frame.DataFrame'>\n",
      "Index: 59 entries, 3 to 139\n",
      "Data columns (total 4 columns):\n",
      " #   Column           Non-Null Count  Dtype         \n",
      "---  ------           --------------  -----         \n",
      " 0   uid              59 non-null     object        \n",
      " 1   labname          59 non-null     object        \n",
      " 2   first_commit_ts  59 non-null     datetime64[ns]\n",
      " 3   first_view_ts    59 non-null     datetime64[ns]\n",
      "dtypes: datetime64[ns](2), object(2)\n",
      "memory usage: 2.3+ KB\n",
      "<class 'pandas.core.frame.DataFrame'>\n",
      "Index: 81 entries, 0 to 137\n",
      "Data columns (total 4 columns):\n",
      " #   Column           Non-Null Count  Dtype         \n",
      "---  ------           --------------  -----         \n",
      " 0   uid              81 non-null     object        \n",
      " 1   labname          81 non-null     object        \n",
      " 2   first_commit_ts  81 non-null     datetime64[ns]\n",
      " 3   first_view_ts    81 non-null     datetime64[ns]\n",
      "dtypes: datetime64[ns](2), object(2)\n",
      "memory usage: 3.2+ KB\n"
     ]
    },
    {
     "ename": "ValueError",
     "evalue": "Table 'test' already exists.",
     "output_type": "error",
     "traceback": [
      "\u001B[31m---------------------------------------------------------------------------\u001B[39m",
      "\u001B[31mValueError\u001B[39m                                Traceback (most recent call last)",
      "\u001B[36mCell\u001B[39m\u001B[36m \u001B[39m\u001B[32mIn[8]\u001B[39m\u001B[32m, line 8\u001B[39m\n\u001B[32m      5\u001B[39m test.info()\n\u001B[32m      6\u001B[39m control.info()\n\u001B[32m----> \u001B[39m\u001B[32m8\u001B[39m \u001B[43mtest\u001B[49m\u001B[43m.\u001B[49m\u001B[43mto_sql\u001B[49m\u001B[43m(\u001B[49m\u001B[33;43m'\u001B[39;49m\u001B[33;43mtest\u001B[39;49m\u001B[33;43m'\u001B[39;49m\u001B[43m,\u001B[49m\u001B[43m \u001B[49m\u001B[43mconn\u001B[49m\u001B[43m)\u001B[49m\n\u001B[32m      9\u001B[39m control.to_sql(\u001B[33m'\u001B[39m\u001B[33mcontrol\u001B[39m\u001B[33m'\u001B[39m, conn)\n",
      "\u001B[36mFile \u001B[39m\u001B[32m~/school21 projects/DS_Bootcamp.Day06.ID_886518-1/src/.venv/lib/python3.12/site-packages/pandas/util/_decorators.py:333\u001B[39m, in \u001B[36mdeprecate_nonkeyword_arguments.<locals>.decorate.<locals>.wrapper\u001B[39m\u001B[34m(*args, **kwargs)\u001B[39m\n\u001B[32m    327\u001B[39m \u001B[38;5;28;01mif\u001B[39;00m \u001B[38;5;28mlen\u001B[39m(args) > num_allow_args:\n\u001B[32m    328\u001B[39m     warnings.warn(\n\u001B[32m    329\u001B[39m         msg.format(arguments=_format_argument_list(allow_args)),\n\u001B[32m    330\u001B[39m         \u001B[38;5;167;01mFutureWarning\u001B[39;00m,\n\u001B[32m    331\u001B[39m         stacklevel=find_stack_level(),\n\u001B[32m    332\u001B[39m     )\n\u001B[32m--> \u001B[39m\u001B[32m333\u001B[39m \u001B[38;5;28;01mreturn\u001B[39;00m \u001B[43mfunc\u001B[49m\u001B[43m(\u001B[49m\u001B[43m*\u001B[49m\u001B[43margs\u001B[49m\u001B[43m,\u001B[49m\u001B[43m \u001B[49m\u001B[43m*\u001B[49m\u001B[43m*\u001B[49m\u001B[43mkwargs\u001B[49m\u001B[43m)\u001B[49m\n",
      "\u001B[36mFile \u001B[39m\u001B[32m~/school21 projects/DS_Bootcamp.Day06.ID_886518-1/src/.venv/lib/python3.12/site-packages/pandas/core/generic.py:3106\u001B[39m, in \u001B[36mNDFrame.to_sql\u001B[39m\u001B[34m(self, name, con, schema, if_exists, index, index_label, chunksize, dtype, method)\u001B[39m\n\u001B[32m   2908\u001B[39m \u001B[38;5;250m\u001B[39m\u001B[33;03m\"\"\"\u001B[39;00m\n\u001B[32m   2909\u001B[39m \u001B[33;03mWrite records stored in a DataFrame to a SQL database.\u001B[39;00m\n\u001B[32m   2910\u001B[39m \n\u001B[32m   (...)\u001B[39m\u001B[32m   3102\u001B[39m \u001B[33;03m[(1,), (None,), (2,)]\u001B[39;00m\n\u001B[32m   3103\u001B[39m \u001B[33;03m\"\"\"\u001B[39;00m  \u001B[38;5;66;03m# noqa: E501\u001B[39;00m\n\u001B[32m   3104\u001B[39m \u001B[38;5;28;01mfrom\u001B[39;00m\u001B[38;5;250m \u001B[39m\u001B[34;01mpandas\u001B[39;00m\u001B[34;01m.\u001B[39;00m\u001B[34;01mio\u001B[39;00m\u001B[38;5;250m \u001B[39m\u001B[38;5;28;01mimport\u001B[39;00m sql\n\u001B[32m-> \u001B[39m\u001B[32m3106\u001B[39m \u001B[38;5;28;01mreturn\u001B[39;00m \u001B[43msql\u001B[49m\u001B[43m.\u001B[49m\u001B[43mto_sql\u001B[49m\u001B[43m(\u001B[49m\n\u001B[32m   3107\u001B[39m \u001B[43m    \u001B[49m\u001B[38;5;28;43mself\u001B[39;49m\u001B[43m,\u001B[49m\n\u001B[32m   3108\u001B[39m \u001B[43m    \u001B[49m\u001B[43mname\u001B[49m\u001B[43m,\u001B[49m\n\u001B[32m   3109\u001B[39m \u001B[43m    \u001B[49m\u001B[43mcon\u001B[49m\u001B[43m,\u001B[49m\n\u001B[32m   3110\u001B[39m \u001B[43m    \u001B[49m\u001B[43mschema\u001B[49m\u001B[43m=\u001B[49m\u001B[43mschema\u001B[49m\u001B[43m,\u001B[49m\n\u001B[32m   3111\u001B[39m \u001B[43m    \u001B[49m\u001B[43mif_exists\u001B[49m\u001B[43m=\u001B[49m\u001B[43mif_exists\u001B[49m\u001B[43m,\u001B[49m\n\u001B[32m   3112\u001B[39m \u001B[43m    \u001B[49m\u001B[43mindex\u001B[49m\u001B[43m=\u001B[49m\u001B[43mindex\u001B[49m\u001B[43m,\u001B[49m\n\u001B[32m   3113\u001B[39m \u001B[43m    \u001B[49m\u001B[43mindex_label\u001B[49m\u001B[43m=\u001B[49m\u001B[43mindex_label\u001B[49m\u001B[43m,\u001B[49m\n\u001B[32m   3114\u001B[39m \u001B[43m    \u001B[49m\u001B[43mchunksize\u001B[49m\u001B[43m=\u001B[49m\u001B[43mchunksize\u001B[49m\u001B[43m,\u001B[49m\n\u001B[32m   3115\u001B[39m \u001B[43m    \u001B[49m\u001B[43mdtype\u001B[49m\u001B[43m=\u001B[49m\u001B[43mdtype\u001B[49m\u001B[43m,\u001B[49m\n\u001B[32m   3116\u001B[39m \u001B[43m    \u001B[49m\u001B[43mmethod\u001B[49m\u001B[43m=\u001B[49m\u001B[43mmethod\u001B[49m\u001B[43m,\u001B[49m\n\u001B[32m   3117\u001B[39m \u001B[43m\u001B[49m\u001B[43m)\u001B[49m\n",
      "\u001B[36mFile \u001B[39m\u001B[32m~/school21 projects/DS_Bootcamp.Day06.ID_886518-1/src/.venv/lib/python3.12/site-packages/pandas/io/sql.py:844\u001B[39m, in \u001B[36mto_sql\u001B[39m\u001B[34m(frame, name, con, schema, if_exists, index, index_label, chunksize, dtype, method, engine, **engine_kwargs)\u001B[39m\n\u001B[32m    839\u001B[39m     \u001B[38;5;28;01mraise\u001B[39;00m \u001B[38;5;167;01mNotImplementedError\u001B[39;00m(\n\u001B[32m    840\u001B[39m         \u001B[33m\"\u001B[39m\u001B[33m'\u001B[39m\u001B[33mframe\u001B[39m\u001B[33m'\u001B[39m\u001B[33m argument should be either a Series or a DataFrame\u001B[39m\u001B[33m\"\u001B[39m\n\u001B[32m    841\u001B[39m     )\n\u001B[32m    843\u001B[39m \u001B[38;5;28;01mwith\u001B[39;00m pandasSQL_builder(con, schema=schema, need_transaction=\u001B[38;5;28;01mTrue\u001B[39;00m) \u001B[38;5;28;01mas\u001B[39;00m pandas_sql:\n\u001B[32m--> \u001B[39m\u001B[32m844\u001B[39m     \u001B[38;5;28;01mreturn\u001B[39;00m \u001B[43mpandas_sql\u001B[49m\u001B[43m.\u001B[49m\u001B[43mto_sql\u001B[49m\u001B[43m(\u001B[49m\n\u001B[32m    845\u001B[39m \u001B[43m        \u001B[49m\u001B[43mframe\u001B[49m\u001B[43m,\u001B[49m\n\u001B[32m    846\u001B[39m \u001B[43m        \u001B[49m\u001B[43mname\u001B[49m\u001B[43m,\u001B[49m\n\u001B[32m    847\u001B[39m \u001B[43m        \u001B[49m\u001B[43mif_exists\u001B[49m\u001B[43m=\u001B[49m\u001B[43mif_exists\u001B[49m\u001B[43m,\u001B[49m\n\u001B[32m    848\u001B[39m \u001B[43m        \u001B[49m\u001B[43mindex\u001B[49m\u001B[43m=\u001B[49m\u001B[43mindex\u001B[49m\u001B[43m,\u001B[49m\n\u001B[32m    849\u001B[39m \u001B[43m        \u001B[49m\u001B[43mindex_label\u001B[49m\u001B[43m=\u001B[49m\u001B[43mindex_label\u001B[49m\u001B[43m,\u001B[49m\n\u001B[32m    850\u001B[39m \u001B[43m        \u001B[49m\u001B[43mschema\u001B[49m\u001B[43m=\u001B[49m\u001B[43mschema\u001B[49m\u001B[43m,\u001B[49m\n\u001B[32m    851\u001B[39m \u001B[43m        \u001B[49m\u001B[43mchunksize\u001B[49m\u001B[43m=\u001B[49m\u001B[43mchunksize\u001B[49m\u001B[43m,\u001B[49m\n\u001B[32m    852\u001B[39m \u001B[43m        \u001B[49m\u001B[43mdtype\u001B[49m\u001B[43m=\u001B[49m\u001B[43mdtype\u001B[49m\u001B[43m,\u001B[49m\n\u001B[32m    853\u001B[39m \u001B[43m        \u001B[49m\u001B[43mmethod\u001B[49m\u001B[43m=\u001B[49m\u001B[43mmethod\u001B[49m\u001B[43m,\u001B[49m\n\u001B[32m    854\u001B[39m \u001B[43m        \u001B[49m\u001B[43mengine\u001B[49m\u001B[43m=\u001B[49m\u001B[43mengine\u001B[49m\u001B[43m,\u001B[49m\n\u001B[32m    855\u001B[39m \u001B[43m        \u001B[49m\u001B[43m*\u001B[49m\u001B[43m*\u001B[49m\u001B[43mengine_kwargs\u001B[49m\u001B[43m,\u001B[49m\n\u001B[32m    856\u001B[39m \u001B[43m    \u001B[49m\u001B[43m)\u001B[49m\n",
      "\u001B[36mFile \u001B[39m\u001B[32m~/school21 projects/DS_Bootcamp.Day06.ID_886518-1/src/.venv/lib/python3.12/site-packages/pandas/io/sql.py:2840\u001B[39m, in \u001B[36mSQLiteDatabase.to_sql\u001B[39m\u001B[34m(self, frame, name, if_exists, index, index_label, schema, chunksize, dtype, method, engine, **engine_kwargs)\u001B[39m\n\u001B[32m   2829\u001B[39m             \u001B[38;5;28;01mraise\u001B[39;00m \u001B[38;5;167;01mValueError\u001B[39;00m(\u001B[33mf\u001B[39m\u001B[33m\"\u001B[39m\u001B[38;5;132;01m{\u001B[39;00mcol\u001B[38;5;132;01m}\u001B[39;00m\u001B[33m (\u001B[39m\u001B[38;5;132;01m{\u001B[39;00mmy_type\u001B[38;5;132;01m}\u001B[39;00m\u001B[33m) not a string\u001B[39m\u001B[33m\"\u001B[39m)\n\u001B[32m   2831\u001B[39m table = SQLiteTable(\n\u001B[32m   2832\u001B[39m     name,\n\u001B[32m   2833\u001B[39m     \u001B[38;5;28mself\u001B[39m,\n\u001B[32m   (...)\u001B[39m\u001B[32m   2838\u001B[39m     dtype=dtype,\n\u001B[32m   2839\u001B[39m )\n\u001B[32m-> \u001B[39m\u001B[32m2840\u001B[39m \u001B[43mtable\u001B[49m\u001B[43m.\u001B[49m\u001B[43mcreate\u001B[49m\u001B[43m(\u001B[49m\u001B[43m)\u001B[49m\n\u001B[32m   2841\u001B[39m \u001B[38;5;28;01mreturn\u001B[39;00m table.insert(chunksize, method)\n",
      "\u001B[36mFile \u001B[39m\u001B[32m~/school21 projects/DS_Bootcamp.Day06.ID_886518-1/src/.venv/lib/python3.12/site-packages/pandas/io/sql.py:988\u001B[39m, in \u001B[36mSQLTable.create\u001B[39m\u001B[34m(self)\u001B[39m\n\u001B[32m    986\u001B[39m \u001B[38;5;28;01mif\u001B[39;00m \u001B[38;5;28mself\u001B[39m.exists():\n\u001B[32m    987\u001B[39m     \u001B[38;5;28;01mif\u001B[39;00m \u001B[38;5;28mself\u001B[39m.if_exists == \u001B[33m\"\u001B[39m\u001B[33mfail\u001B[39m\u001B[33m\"\u001B[39m:\n\u001B[32m--> \u001B[39m\u001B[32m988\u001B[39m         \u001B[38;5;28;01mraise\u001B[39;00m \u001B[38;5;167;01mValueError\u001B[39;00m(\u001B[33mf\u001B[39m\u001B[33m\"\u001B[39m\u001B[33mTable \u001B[39m\u001B[33m'\u001B[39m\u001B[38;5;132;01m{\u001B[39;00m\u001B[38;5;28mself\u001B[39m.name\u001B[38;5;132;01m}\u001B[39;00m\u001B[33m'\u001B[39m\u001B[33m already exists.\u001B[39m\u001B[33m\"\u001B[39m)\n\u001B[32m    989\u001B[39m     \u001B[38;5;28;01mif\u001B[39;00m \u001B[38;5;28mself\u001B[39m.if_exists == \u001B[33m\"\u001B[39m\u001B[33mreplace\u001B[39m\u001B[33m\"\u001B[39m:\n\u001B[32m    990\u001B[39m         \u001B[38;5;28mself\u001B[39m.pd_sql.drop_table(\u001B[38;5;28mself\u001B[39m.name, \u001B[38;5;28mself\u001B[39m.schema)\n",
      "\u001B[31mValueError\u001B[39m: Table 'test' already exists."
     ]
    }
   ],
   "execution_count": 8
  },
  {
   "cell_type": "markdown",
   "id": "fadc7381716cf3c6",
   "metadata": {},
   "source": [
    "## закрыть соединение"
   ]
  },
  {
   "cell_type": "code",
   "id": "aa3c17768beaf4f5",
   "metadata": {},
   "source": [
    "conn.close()"
   ],
   "outputs": [],
   "execution_count": null
  }
 ],
 "metadata": {
  "kernelspec": {
   "display_name": "Python 3 (ipykernel)",
   "language": "python",
   "name": "python3"
  },
  "language_info": {
   "codemirror_mode": {
    "name": "ipython",
    "version": 3
   },
   "file_extension": ".py",
   "mimetype": "text/x-python",
   "name": "python",
   "nbconvert_exporter": "python",
   "pygments_lexer": "ipython3",
   "version": "3.12.8"
  }
 },
 "nbformat": 4,
 "nbformat_minor": 5
}
